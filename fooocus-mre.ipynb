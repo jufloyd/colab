%cd /content
!git clone https://github.com/MoonRide303/Fooocus-MRE.git
%cd Fooocus-MRE
!cp settings-no-refiner.json settings.json
!pip install pygit2==1.12.2
!python entry_with_update.py --share
