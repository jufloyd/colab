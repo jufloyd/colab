%cd /content
!git clone https://github.com/lllyasviel/Fooocus.git
%cd Fooocus
!pip install pygit2==1.12.2
!pip install -r requirements_versions.txt
!cp config_modification_tutorial.txt config.txt
!sed -i '1,4d' config.txt
!sed -i "/512*900/a 1080*1350" config.txt
!sed -i "/512*900/a 1080*1080" config.txt
!python entry_with_update.py --share
