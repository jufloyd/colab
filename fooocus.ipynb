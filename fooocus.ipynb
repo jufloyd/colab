{
  "nbformat": 4,
  "nbformat_minor": 0,
  "metadata": {
    "colab": {
      "provenance": [],
      "gpuType": "T4",
      "mount_file_id": "14QMcik9FfkLBSBSNkP5iI4Q4hm7Gw6Nl",
      "authorship_tag": "ABX9TyOBVFZFjnUhG1znX56mVpKO",
      "include_colab_link": true
    },
    "kernelspec": {
      "name": "python3",
      "display_name": "Python 3"
    },
    "language_info": {
      "name": "python"
    },
    "accelerator": "GPU"
  },
  "cells": [
    {
      "cell_type": "markdown",
      "metadata": {
        "id": "view-in-github",
        "colab_type": "text"
      },
      "source": [
        "<a href=\"https://colab.research.google.com/github/jufloyd/colab/blob/main/fooocus-mre.ipynb\" target=\"_parent\"><img src=\"https://colab.research.google.com/assets/colab-badge.svg\" alt=\"Open In Colab\"/></a>"
      ]
    },
    {
      "cell_type": "code",
      "execution_count": null,
      "metadata": {
        "id": "IIgfzvR32gDo"
      },
      "outputs": [],
      "source": [
        "%cd /content\n",
        "!git clone https://github.com/lllyasviel/Fooocus.git\n",
        "%cd Fooocus\n",
        "!pip install pygit2==1.12.2\n",
        "!pip install -r requirements_versions.txt\n",
        "!cp config_modification_tutorial.txt config.txt\n",
        "!sed -i '1,4d' config.txt\n",
        "!sed -i \"/512*900/a 1080*1350\" config.txt\n",
        "!sed -i \"/512*900/a 1080*1080\" config.txt\n",
        "!python entry_with_update.py --share"
      ]
    },
    {
      "cell_type": "code",
      "source": [
        "from google.colab import drive\n",
        "drive.mount('/content/drive')"
      ],
      "metadata": {
        "id": "F1l7bn_iX_Ar"
      },
      "execution_count": null,
      "outputs": []
    }
  ]
}
