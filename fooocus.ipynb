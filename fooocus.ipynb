%cd /content
!git clone https://github.com/lllyasviel/Fooocus.git
%cd Fooocus
!pip install pygit2==1.12.2
!pip install -r requirements_versions.txt
!python entry_with_update.py --share
